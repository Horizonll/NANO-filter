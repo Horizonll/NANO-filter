{
 "cells": [
  {
   "cell_type": "code",
   "execution_count": 9,
   "metadata": {},
   "outputs": [
    {
     "name": "stdout",
     "output_type": "stream",
     "text": [
      "scan\n",
      "scan_t\n",
      "ground_truth_pose\n",
      "ground_truth_ori\n",
      "ground_truth_t\n",
      "odom_pose\n",
      "odom_ori\n",
      "odom_t\n",
      "wheel_vels\n",
      "wheel_t\n"
     ]
    }
   ],
   "source": [
    "import numpy as np\n",
    "data = np.load('./sim/raw_data.npz')\n",
    "for key in data.keys():\n",
    "    print(key)"
   ]
  },
  {
   "cell_type": "code",
   "execution_count": 23,
   "metadata": {},
   "outputs": [],
   "source": [
    "scan = data['scan']\n",
    "scan_t = data['scan_t']/ 1e9\n",
    "wheel_vel = data['wheel_vels']\n",
    "wheel_t = data['wheel_t']/ 1e9\n",
    "pos_gt = data['ground_truth_pose']\n",
    "ori_gt = data['ground_truth_ori']\n",
    "time_gt = data['ground_truth_t'] / 1e9"
   ]
  },
  {
   "cell_type": "code",
   "execution_count": null,
   "metadata": {},
   "outputs": [
    {
     "data": {
      "text/plain": [
       "8"
      ]
     },
     "execution_count": 27,
     "metadata": {},
     "output_type": "execute_result"
    }
   ],
   "source": [
    "t0 = time_gt[0]\n",
    "scan_idx = np.argmax(scan_t>=t0)"
   ]
  },
  {
   "cell_type": "code",
   "execution_count": 26,
   "metadata": {},
   "outputs": [
    {
     "data": {
      "text/plain": [
       "(array([0.        , 0.01598263, 0.02831292, 0.04738307, 0.06191015]),\n",
       " array([0.12049389, 0.13842463, 0.15664005, 0.17495513, 0.1932056 ]))"
      ]
     },
     "execution_count": 26,
     "metadata": {},
     "output_type": "execute_result"
    }
   ],
   "source": [
    "scan_t[:5] - scan_t[0], time_gt[:5] - scan_t[0]"
   ]
  }
 ],
 "metadata": {
  "kernelspec": {
   "display_name": "svi-state-estimation",
   "language": "python",
   "name": "python3"
  },
  "language_info": {
   "codemirror_mode": {
    "name": "ipython",
    "version": 3
   },
   "file_extension": ".py",
   "mimetype": "text/x-python",
   "name": "python",
   "nbconvert_exporter": "python",
   "pygments_lexer": "ipython3",
   "version": "3.10.13"
  }
 },
 "nbformat": 4,
 "nbformat_minor": 2
}
